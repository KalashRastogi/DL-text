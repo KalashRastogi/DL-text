{
  "nbformat": 4,
  "nbformat_minor": 0,
  "metadata": {
    "colab": {
      "name": "Sarcasm.ipynb",
      "version": "0.3.2",
      "provenance": [],
      "collapsed_sections": [],
      "include_colab_link": true
    },
    "kernelspec": {
      "name": "python3",
      "display_name": "Python 3"
    },
    "accelerator": "GPU"
  },
  "cells": [
    {
      "cell_type": "markdown",
      "metadata": {
        "id": "view-in-github",
        "colab_type": "text"
      },
      "source": [
        "[View in Colaboratory](https://colab.research.google.com/github/KalashRastogi/DL-text/blob/master/Sarcasm.ipynb)"
      ]
    },
    {
      "metadata": {
        "id": "v-hM9dIU88kN",
        "colab_type": "code",
        "colab": {
          "base_uri": "https://localhost:8080/",
          "height": 154
        },
        "outputId": "aa109dc0-25a3-43be-9e9c-e893c47f9295"
      },
      "cell_type": "code",
      "source": [
        "!apt-get install -y -qq software-properties-common python-software-properties module-init-tools\n",
        "!add-apt-repository -y ppa:alessandro-strada/ppa 2>&1 > /dev/null\n",
        "!apt-get update -qq 2>&1 > /dev/null\n",
        "!apt-get -y install -qq google-drive-ocamlfuse fuse\n",
        "from google.colab import auth\n",
        "auth.authenticate_user()\n",
        "from oauth2client.client import GoogleCredentials\n",
        "creds = GoogleCredentials.get_application_default()\n",
        "import getpass\n",
        "!google-drive-ocamlfuse -headless -id={creds.client_id} -secret={creds.client_secret} < /dev/null 2>&1 | grep URL\n",
        "vcode = getpass.getpass()\n",
        "!echo {vcode} | google-drive-ocamlfuse -headless -id={creds.client_id} -secret={creds.client_secret}"
      ],
      "execution_count": 1,
      "outputs": [
        {
          "output_type": "stream",
          "text": [
            "gpg: keybox '/tmp/tmpnb4lzf35/pubring.gpg' created\n",
            "gpg: /tmp/tmpnb4lzf35/trustdb.gpg: trustdb created\n",
            "gpg: key AD5F235DF639B041: public key \"Launchpad PPA for Alessandro Strada\" imported\n",
            "gpg: Total number processed: 1\n",
            "gpg:               imported: 1\n",
            "Warning: apt-key output should not be parsed (stdout is not a terminal)\n",
            "··········\n"
          ],
          "name": "stdout"
        }
      ]
    },
    {
      "metadata": {
        "id": "SHKwfA1tAGX5",
        "colab_type": "code",
        "colab": {
          "base_uri": "https://localhost:8080/",
          "height": 50
        },
        "outputId": "5ebee521-a22f-40d9-fe37-5cf40aeebf73"
      },
      "cell_type": "code",
      "source": [
        "!mkdir -p drive\n",
        "!google-drive-ocamlfuse drive"
      ],
      "execution_count": 2,
      "outputs": [
        {
          "output_type": "stream",
          "text": [
            "fuse: mountpoint is not empty\r\n",
            "fuse: if you are sure this is safe, use the 'nonempty' mount option\r\n"
          ],
          "name": "stdout"
        }
      ]
    },
    {
      "metadata": {
        "id": "WDcEfk3hAH5w",
        "colab_type": "code",
        "colab": {
          "base_uri": "https://localhost:8080/",
          "height": 34
        },
        "outputId": "e75ad081-35d5-44ef-f88a-76041092130d"
      },
      "cell_type": "code",
      "source": [
        "!pwd"
      ],
      "execution_count": 3,
      "outputs": [
        {
          "output_type": "stream",
          "text": [
            "/content\r\n"
          ],
          "name": "stdout"
        }
      ]
    },
    {
      "metadata": {
        "id": "V9hF2QkqAvKl",
        "colab_type": "code",
        "colab": {}
      },
      "cell_type": "code",
      "source": [
        "import os\n",
        "os.chdir(\"drive/SarcasmApp\")"
      ],
      "execution_count": 0,
      "outputs": []
    },
    {
      "metadata": {
        "id": "sx_mjao_UiPx",
        "colab_type": "code",
        "colab": {
          "base_uri": "https://localhost:8080/",
          "height": 34
        },
        "outputId": "f03393fc-70cc-4455-a679-1b1c8fad9d32"
      },
      "cell_type": "code",
      "source": [
        "!pwd"
      ],
      "execution_count": 5,
      "outputs": [
        {
          "output_type": "stream",
          "text": [
            "/content/drive/SarcasmApp\r\n"
          ],
          "name": "stdout"
        }
      ]
    },
    {
      "metadata": {
        "id": "IhGwb7hBYEb0",
        "colab_type": "code",
        "colab": {}
      },
      "cell_type": "code",
      "source": [
        "!pip install -U -q PyDrive\n",
        "from pydrive.auth import GoogleAuth\n",
        "from pydrive.drive import GoogleDrive\n",
        "from google.colab import auth\n",
        "from oauth2client.client import GoogleCredentials"
      ],
      "execution_count": 0,
      "outputs": []
    },
    {
      "metadata": {
        "id": "7fwAdSTpXj71",
        "colab_type": "code",
        "colab": {
          "base_uri": "https://localhost:8080/",
          "height": 50
        },
        "outputId": "3f4acf1f-09d5-4356-d6c5-4f220bdf5b77"
      },
      "cell_type": "code",
      "source": [
        "!ls"
      ],
      "execution_count": 6,
      "outputs": [
        {
          "output_type": "stream",
          "text": [
            "dl_text\t\t  s2.py\t\t sarcasm.py\t sarcasm.zip\r\n",
            "glove.6B.50d.txt  Sarcasm.ipynb  sarcasm_v2.csv\r\n"
          ],
          "name": "stdout"
        }
      ]
    },
    {
      "metadata": {
        "id": "LO3Rv0ojYj35",
        "colab_type": "code",
        "colab": {
          "base_uri": "https://localhost:8080/",
          "height": 34
        },
        "outputId": "d7563d4a-b82f-45f4-cb75-73f15a51369a"
      },
      "cell_type": "code",
      "source": [
        "from dl_text import dl"
      ],
      "execution_count": 7,
      "outputs": [
        {
          "output_type": "stream",
          "text": [
            "Using TensorFlow backend.\n"
          ],
          "name": "stderr"
        }
      ]
    },
    {
      "metadata": {
        "id": "LW9AKWQ-dPy9",
        "colab_type": "code",
        "colab": {}
      },
      "cell_type": "code",
      "source": [
        "import pandas as pd\n",
        "import numpy as np\n",
        "from keras.layers import Input,Dense,Dropout,merge,Conv1D,Lambda,Flatten,MaxPooling1D\n",
        "from keras.models import Model\n",
        "import keras"
      ],
      "execution_count": 0,
      "outputs": []
    },
    {
      "metadata": {
        "id": "efxq5kUtgDOJ",
        "colab_type": "code",
        "colab": {}
      },
      "cell_type": "code",
      "source": [
        "def model_cnn2(dimx, dimy, embedding_matrix):\n",
        "    inpx = Input(shape=(dimx,),dtype='int32',name='inpx')   \n",
        "    embedx = dl.word2vec_embedding_layer(embedding_matrix)(inpx)\n",
        "    inpy = Input(shape=(dimy,),dtype='int32',name='inpy')   \n",
        "    embedy = dl.word2vec_embedding_layer(embedding_matrix)(inpy)\n",
        "    \n",
        "    sent_l = Conv1D(nb_filter=3,filter_length=2,activation='relu')(embedx)\n",
        "    sent_r = Conv1D(nb_filter=3,filter_length=2,activation='relu')(embedy)\n",
        "    pool_l = MaxPooling1D()(sent_l)\n",
        "    pool_r = MaxPooling1D()(sent_r)\n",
        "\n",
        "    combine  = keras.layers.Add()([pool_l,pool_r])\n",
        "    flat_embed = Flatten()(combine)\n",
        "    nnet_h = Dense(units=10,activation='sigmoid')(flat_embed)\n",
        "    nnet_out = Dense(units=2,activation='sigmoid')(nnet_h)\n",
        "    model = Model([inpx,inpy],nnet_out)\n",
        "    model.compile(loss='mse',optimizer='adam')\n",
        "    \n",
        "    return model"
      ],
      "execution_count": 0,
      "outputs": []
    },
    {
      "metadata": {
        "id": "vcvrIOj5gKt7",
        "colab_type": "code",
        "colab": {
          "base_uri": "https://localhost:8080/",
          "height": 279
        },
        "outputId": "c5fa8204-569b-433a-cbe2-371ddda4e304"
      },
      "cell_type": "code",
      "source": [
        "df=pd.read_csv('sarcasm_v2.csv')\n",
        "df.head()"
      ],
      "execution_count": 10,
      "outputs": [
        {
          "output_type": "execute_result",
          "data": {
            "text/html": [
              "<div>\n",
              "<style scoped>\n",
              "    .dataframe tbody tr th:only-of-type {\n",
              "        vertical-align: middle;\n",
              "    }\n",
              "\n",
              "    .dataframe tbody tr th {\n",
              "        vertical-align: top;\n",
              "    }\n",
              "\n",
              "    .dataframe thead th {\n",
              "        text-align: right;\n",
              "    }\n",
              "</style>\n",
              "<table border=\"1\" class=\"dataframe\">\n",
              "  <thead>\n",
              "    <tr style=\"text-align: right;\">\n",
              "      <th></th>\n",
              "      <th>Corpus</th>\n",
              "      <th>Label</th>\n",
              "      <th>ID</th>\n",
              "      <th>Quote Text</th>\n",
              "      <th>Response Text</th>\n",
              "    </tr>\n",
              "  </thead>\n",
              "  <tbody>\n",
              "    <tr>\n",
              "      <th>0</th>\n",
              "      <td>GEN</td>\n",
              "      <td>sarc</td>\n",
              "      <td>GEN_sarc_0000</td>\n",
              "      <td>First off, That's grade A USDA approved Libera...</td>\n",
              "      <td>Therefore you accept that the Republican party...</td>\n",
              "    </tr>\n",
              "    <tr>\n",
              "      <th>1</th>\n",
              "      <td>GEN</td>\n",
              "      <td>sarc</td>\n",
              "      <td>GEN_sarc_0001</td>\n",
              "      <td>watch it. Now you're using my lines. Poet has ...</td>\n",
              "      <td>More chattering from the peanut gallery? Haven...</td>\n",
              "    </tr>\n",
              "    <tr>\n",
              "      <th>2</th>\n",
              "      <td>GEN</td>\n",
              "      <td>sarc</td>\n",
              "      <td>GEN_sarc_0002</td>\n",
              "      <td>Because it will encourage teens to engage in r...</td>\n",
              "      <td>Yep, suppressing natural behavior is always th...</td>\n",
              "    </tr>\n",
              "    <tr>\n",
              "      <th>3</th>\n",
              "      <td>GEN</td>\n",
              "      <td>sarc</td>\n",
              "      <td>GEN_sarc_0003</td>\n",
              "      <td>Obviously you missed the point. So sorry the t...</td>\n",
              "      <td>I guess we all missed your point Justine, what...</td>\n",
              "    </tr>\n",
              "    <tr>\n",
              "      <th>4</th>\n",
              "      <td>GEN</td>\n",
              "      <td>sarc</td>\n",
              "      <td>GEN_sarc_0004</td>\n",
              "      <td>This is pure paranoia. What evidence do you ha...</td>\n",
              "      <td>Evidence, I dont need no sticking evidence. Th...</td>\n",
              "    </tr>\n",
              "  </tbody>\n",
              "</table>\n",
              "</div>"
            ],
            "text/plain": [
              "  Corpus Label             ID  \\\n",
              "0    GEN  sarc  GEN_sarc_0000   \n",
              "1    GEN  sarc  GEN_sarc_0001   \n",
              "2    GEN  sarc  GEN_sarc_0002   \n",
              "3    GEN  sarc  GEN_sarc_0003   \n",
              "4    GEN  sarc  GEN_sarc_0004   \n",
              "\n",
              "                                          Quote Text  \\\n",
              "0  First off, That's grade A USDA approved Libera...   \n",
              "1  watch it. Now you're using my lines. Poet has ...   \n",
              "2  Because it will encourage teens to engage in r...   \n",
              "3  Obviously you missed the point. So sorry the t...   \n",
              "4  This is pure paranoia. What evidence do you ha...   \n",
              "\n",
              "                                       Response Text  \n",
              "0  Therefore you accept that the Republican party...  \n",
              "1  More chattering from the peanut gallery? Haven...  \n",
              "2  Yep, suppressing natural behavior is always th...  \n",
              "3  I guess we all missed your point Justine, what...  \n",
              "4  Evidence, I dont need no sticking evidence. Th...  "
            ]
          },
          "metadata": {
            "tags": []
          },
          "execution_count": 10
        }
      ]
    },
    {
      "metadata": {
        "id": "M8nK_6sMgWDO",
        "colab_type": "code",
        "colab": {
          "base_uri": "https://localhost:8080/",
          "height": 195
        },
        "outputId": "1da263d9-7bec-4e5f-8b01-69c88541ea01"
      },
      "cell_type": "code",
      "source": [
        "df=df.drop(columns=['Corpus','ID'])\n",
        "df.head()"
      ],
      "execution_count": 11,
      "outputs": [
        {
          "output_type": "execute_result",
          "data": {
            "text/html": [
              "<div>\n",
              "<style scoped>\n",
              "    .dataframe tbody tr th:only-of-type {\n",
              "        vertical-align: middle;\n",
              "    }\n",
              "\n",
              "    .dataframe tbody tr th {\n",
              "        vertical-align: top;\n",
              "    }\n",
              "\n",
              "    .dataframe thead th {\n",
              "        text-align: right;\n",
              "    }\n",
              "</style>\n",
              "<table border=\"1\" class=\"dataframe\">\n",
              "  <thead>\n",
              "    <tr style=\"text-align: right;\">\n",
              "      <th></th>\n",
              "      <th>Label</th>\n",
              "      <th>Quote Text</th>\n",
              "      <th>Response Text</th>\n",
              "    </tr>\n",
              "  </thead>\n",
              "  <tbody>\n",
              "    <tr>\n",
              "      <th>0</th>\n",
              "      <td>sarc</td>\n",
              "      <td>First off, That's grade A USDA approved Libera...</td>\n",
              "      <td>Therefore you accept that the Republican party...</td>\n",
              "    </tr>\n",
              "    <tr>\n",
              "      <th>1</th>\n",
              "      <td>sarc</td>\n",
              "      <td>watch it. Now you're using my lines. Poet has ...</td>\n",
              "      <td>More chattering from the peanut gallery? Haven...</td>\n",
              "    </tr>\n",
              "    <tr>\n",
              "      <th>2</th>\n",
              "      <td>sarc</td>\n",
              "      <td>Because it will encourage teens to engage in r...</td>\n",
              "      <td>Yep, suppressing natural behavior is always th...</td>\n",
              "    </tr>\n",
              "    <tr>\n",
              "      <th>3</th>\n",
              "      <td>sarc</td>\n",
              "      <td>Obviously you missed the point. So sorry the t...</td>\n",
              "      <td>I guess we all missed your point Justine, what...</td>\n",
              "    </tr>\n",
              "    <tr>\n",
              "      <th>4</th>\n",
              "      <td>sarc</td>\n",
              "      <td>This is pure paranoia. What evidence do you ha...</td>\n",
              "      <td>Evidence, I dont need no sticking evidence. Th...</td>\n",
              "    </tr>\n",
              "  </tbody>\n",
              "</table>\n",
              "</div>"
            ],
            "text/plain": [
              "  Label                                         Quote Text  \\\n",
              "0  sarc  First off, That's grade A USDA approved Libera...   \n",
              "1  sarc  watch it. Now you're using my lines. Poet has ...   \n",
              "2  sarc  Because it will encourage teens to engage in r...   \n",
              "3  sarc  Obviously you missed the point. So sorry the t...   \n",
              "4  sarc  This is pure paranoia. What evidence do you ha...   \n",
              "\n",
              "                                       Response Text  \n",
              "0  Therefore you accept that the Republican party...  \n",
              "1  More chattering from the peanut gallery? Haven...  \n",
              "2  Yep, suppressing natural behavior is always th...  \n",
              "3  I guess we all missed your point Justine, what...  \n",
              "4  Evidence, I dont need no sticking evidence. Th...  "
            ]
          },
          "metadata": {
            "tags": []
          },
          "execution_count": 11
        }
      ]
    },
    {
      "metadata": {
        "id": "ZvCRl0xSgyel",
        "colab_type": "code",
        "colab": {
          "base_uri": "https://localhost:8080/",
          "height": 195
        },
        "outputId": "e8434193-6786-41ab-9ca0-da85ba9ea9bb"
      },
      "cell_type": "code",
      "source": [
        "df = df.replace({'sarc':1,'notsarc':0})\n",
        "df.head()"
      ],
      "execution_count": 12,
      "outputs": [
        {
          "output_type": "execute_result",
          "data": {
            "text/html": [
              "<div>\n",
              "<style scoped>\n",
              "    .dataframe tbody tr th:only-of-type {\n",
              "        vertical-align: middle;\n",
              "    }\n",
              "\n",
              "    .dataframe tbody tr th {\n",
              "        vertical-align: top;\n",
              "    }\n",
              "\n",
              "    .dataframe thead th {\n",
              "        text-align: right;\n",
              "    }\n",
              "</style>\n",
              "<table border=\"1\" class=\"dataframe\">\n",
              "  <thead>\n",
              "    <tr style=\"text-align: right;\">\n",
              "      <th></th>\n",
              "      <th>Label</th>\n",
              "      <th>Quote Text</th>\n",
              "      <th>Response Text</th>\n",
              "    </tr>\n",
              "  </thead>\n",
              "  <tbody>\n",
              "    <tr>\n",
              "      <th>0</th>\n",
              "      <td>1</td>\n",
              "      <td>First off, That's grade A USDA approved Libera...</td>\n",
              "      <td>Therefore you accept that the Republican party...</td>\n",
              "    </tr>\n",
              "    <tr>\n",
              "      <th>1</th>\n",
              "      <td>1</td>\n",
              "      <td>watch it. Now you're using my lines. Poet has ...</td>\n",
              "      <td>More chattering from the peanut gallery? Haven...</td>\n",
              "    </tr>\n",
              "    <tr>\n",
              "      <th>2</th>\n",
              "      <td>1</td>\n",
              "      <td>Because it will encourage teens to engage in r...</td>\n",
              "      <td>Yep, suppressing natural behavior is always th...</td>\n",
              "    </tr>\n",
              "    <tr>\n",
              "      <th>3</th>\n",
              "      <td>1</td>\n",
              "      <td>Obviously you missed the point. So sorry the t...</td>\n",
              "      <td>I guess we all missed your point Justine, what...</td>\n",
              "    </tr>\n",
              "    <tr>\n",
              "      <th>4</th>\n",
              "      <td>1</td>\n",
              "      <td>This is pure paranoia. What evidence do you ha...</td>\n",
              "      <td>Evidence, I dont need no sticking evidence. Th...</td>\n",
              "    </tr>\n",
              "  </tbody>\n",
              "</table>\n",
              "</div>"
            ],
            "text/plain": [
              "   Label                                         Quote Text  \\\n",
              "0      1  First off, That's grade A USDA approved Libera...   \n",
              "1      1  watch it. Now you're using my lines. Poet has ...   \n",
              "2      1  Because it will encourage teens to engage in r...   \n",
              "3      1  Obviously you missed the point. So sorry the t...   \n",
              "4      1  This is pure paranoia. What evidence do you ha...   \n",
              "\n",
              "                                       Response Text  \n",
              "0  Therefore you accept that the Republican party...  \n",
              "1  More chattering from the peanut gallery? Haven...  \n",
              "2  Yep, suppressing natural behavior is always th...  \n",
              "3  I guess we all missed your point Justine, what...  \n",
              "4  Evidence, I dont need no sticking evidence. Th...  "
            ]
          },
          "metadata": {
            "tags": []
          },
          "execution_count": 12
        }
      ]
    },
    {
      "metadata": {
        "id": "9e-jLkCmhKQk",
        "colab_type": "code",
        "colab": {
          "base_uri": "https://localhost:8080/",
          "height": 87
        },
        "outputId": "bba4a0bf-c607-4a25-a040-fad59d923a86"
      },
      "cell_type": "code",
      "source": [
        "label = df['Label'].tolist()\n",
        "quote = df['Quote Text'].tolist()\n",
        "response = df['Response Text'].tolist()\n",
        "print(label[0:5])\n",
        "print(quote[0:5])\n",
        "print(response[0:5])"
      ],
      "execution_count": 13,
      "outputs": [
        {
          "output_type": "stream",
          "text": [
            "[1, 1, 1, 1, 1]\n",
            "[\"First off, That's grade A USDA approved Liberalism in a nutshell.\", \"watch it. Now you're using my lines. Poet has always been an easy target, I will agree. ;)\", 'Because it will encourage teens to engage in riskier behavior. Abstinence until marriage is still the best way.', 'Obviously you missed the point. So sorry the the irony was beyond you.', \"This is pure paranoia. What evidence do you have to support you're point of view? Why don't you actually do a little research yourself. Handgun Control Inc was founded by two victims of gun-violence. Sarah Brady joined Handgun Control Inc after her husband received brain damage from a bullet. Senator Ted Kennedy also supports gun-control because some of his family members were killed with guns. Many people who support gun control have experienced the horrors of gun violence firsthand and are just trying to make our nation a safer place. It's not because they are power hungry.\"]\n",
            "['Therefore you accept that the Republican party almost as a whole is \"grade A USDA approved Liberalism.\" About time you did.   ', \"More chattering from the peanut gallery? Haven't gotten the memo, you're no longer a player? Honestly....clamoring for attention is so low budget. No shame.\", 'Yep, suppressing natural behavior is always the way to go. We should also get them to stop pooping.', 'I guess we all missed your point Justine, whatever it might have been. emoticonXConfused Better luck next time. emoticonXGood', 'Evidence, I dont need no sticking evidence. This is what I beleive, and thats it, but I will dig up some proof that supports my point.']\n"
          ],
          "name": "stdout"
        }
      ]
    },
    {
      "metadata": {
        "id": "mSPUtG3EmGt5",
        "colab_type": "code",
        "colab": {}
      },
      "cell_type": "code",
      "source": [
        "import re\n",
        "def clean(text):\n",
        "    text = re.sub(r\"[^A-Za-z0-9^,!.\\/'+-=]\", \" \",text)\n",
        "    text = re.sub(r\"what's\", \"what is \", text)\n",
        "    text = re.sub(r\"\\'s\", \" \", text)\n",
        "    text = re.sub(r\"\\'ve\", \" have \", text)\n",
        "    text = re.sub(r\"can't\", \"cannot \", text)\n",
        "    text = re.sub(r\"n't\", \" not \", text)\n",
        "    text = re.sub(r\"i'm\", \"i am \", text)\n",
        "    text = re.sub(r\"\\'re\", \" are \", text)\n",
        "    text = re.sub(r\"\\'d\", \" would \", text)\n",
        "    text = re.sub(r\"\\'ll\", \" will \", text)\n",
        "    text = re.sub(r\",\", \" \", text)\n",
        "    text = re.sub(r\"\\.\", \" \", text)\n",
        "    text = re.sub(r\"!\", \" ! \", text)\n",
        "    text = re.sub(r\"\\/\", \" \", text)\n",
        "    text = re.sub(r\"\\^\", \" ^ \", text)\n",
        "    text = re.sub(r\"\\+\", \" + \", text)\n",
        "    text = re.sub(r\"\\-\", \" - \", text)\n",
        "    text = re.sub(r\"\\=\", \" = \", text)\n",
        "    text = re.sub(r\"'\", \" \", text)\n",
        "    text = re.sub(r\"(\\d+)(k)\", r\"\\g<1>000\", text)\n",
        "    text = re.sub(r\":\", \" : \", text)\n",
        "    text = re.sub(r\" e g \", \" eg \", text)\n",
        "    text = re.sub(r\" b g \", \" bg \", text)\n",
        "    text = re.sub(r\" u s \", \" american \", text)\n",
        "    text = re.sub(r\"\\0s\", \"0\", text)\n",
        "    text = re.sub(r\" 9 11 \", \"911\", text)\n",
        "    text = re.sub(r\"e - mail\", \"email\", text)\n",
        "    text = re.sub(r\"j k\", \"jk\", text)\n",
        "    text = re.sub(r\"\\s{2,}\", \" \", text)\n",
        "    return text"
      ],
      "execution_count": 0,
      "outputs": []
    },
    {
      "metadata": {
        "id": "7cC-WPNqicqp",
        "colab_type": "text"
      },
      "cell_type": "markdown",
      "source": [
        "Cleaning Data"
      ]
    },
    {
      "metadata": {
        "id": "WP2OQpfhhkHF",
        "colab_type": "code",
        "colab": {
          "base_uri": "https://localhost:8080/",
          "height": 87
        },
        "outputId": "0e356579-fca0-43d1-cfc9-600aed0dc13e"
      },
      "cell_type": "code",
      "source": [
        "quotes=[]\n",
        "responses=[]\n",
        "labels=[]\n",
        "for sent1,sent2,l in zip(quote,response,label):\n",
        "    quotes.append(clean(sent1))\n",
        "    responses.append(clean(sent2))\n",
        "    labels.append(dl.clean(str(l)))\n",
        "print(labels[0:5])\n",
        "print(quotes[0:5])\n",
        "print(responses[0:5])"
      ],
      "execution_count": 20,
      "outputs": [
        {
          "output_type": "stream",
          "text": [
            "['1', '1', '1', '1', '1']\n",
            "['First off That grade A USDA approved Liberalism in a nutshell ', 'watch it Now you are using my lines Poet has always been an easy target I will agree ; ', 'Because it will encourage teens to engage in riskier behavior Abstinence until marriage is still the best way ', 'Obviously you missed the point So sorry the the irony was beyond you ', 'This is pure paranoia What evidence do you have to support you are point of view Why do not you actually do a little research yourself Handgun Control Inc was founded by two victims of gun - violence Sarah Brady joined Handgun Control Inc after her husband received brain damage from a bullet Senator Ted Kennedy also supports gun - control because some of his family members were killed with guns Many people who support gun control have experienced the horrors of gun violence firsthand and are just trying to make our nation a safer place It not because they are power hungry ']\n",
            "['Therefore you accept that the Republican party almost as a whole is grade A USDA approved Liberalism About time you did ', 'More chattering from the peanut gallery Have not gotten the memo you are no longer a player Honestly clamoring for attention is so low budget No shame ', 'Yep suppressing natural behavior is always the way to go We should also get them to stop pooping ', 'I guess we all missed your point Justine whatever it might have been emoticonXConfused Better luck next time emoticonXGood', 'Evidence I dont need no sticking evidence This is what I beleive and thats it but I will dig up some proof that supports my point ']\n"
          ],
          "name": "stdout"
        }
      ]
    },
    {
      "metadata": {
        "id": "A4OfSWwViZL2",
        "colab_type": "code",
        "colab": {
          "base_uri": "https://localhost:8080/",
          "height": 101
        },
        "outputId": "fea1a9da-b8e3-4873-c0a1-8ed9c203ab0d"
      },
      "cell_type": "code",
      "source": [
        "labels=[int(i) for i in labels]\n",
        "labels = keras.utils.to_categorical(labels)\n",
        "print(labels[:5])"
      ],
      "execution_count": 21,
      "outputs": [
        {
          "output_type": "stream",
          "text": [
            "[[0. 1.]\n",
            " [0. 1.]\n",
            " [0. 1.]\n",
            " [0. 1.]\n",
            " [0. 1.]]\n"
          ],
          "name": "stdout"
        }
      ]
    },
    {
      "metadata": {
        "id": "G7cMX_yFirlv",
        "colab_type": "code",
        "colab": {}
      },
      "cell_type": "code",
      "source": [
        "f = open('glove.6B.50d.txt', encoding=\"utf8\")\n",
        "model = {}\n",
        "for line in f:\n",
        "    splitline = line.split()\n",
        "    word = splitline[0]\n",
        "    embedding = np.array([float(val) for val in splitline[1:]])\n",
        "    model[word] = embedding"
      ],
      "execution_count": 0,
      "outputs": []
    },
    {
      "metadata": {
        "id": "pZEf4SSLi2g1",
        "colab_type": "code",
        "colab": {}
      },
      "cell_type": "code",
      "source": [
        "wordvec_model = model"
      ],
      "execution_count": 0,
      "outputs": []
    },
    {
      "metadata": {
        "id": "cccARGXlo6Cj",
        "colab_type": "code",
        "colab": {
          "base_uri": "https://localhost:8080/",
          "height": 67
        },
        "outputId": "cf0955a8-2d1f-43a1-fc29-ab1ee50a47d7"
      },
      "cell_type": "code",
      "source": [
        "data_inp_l, data_inp_r, embedding_matrix = dl.process_data(sent_l = quotes, sent_r = responses, wordVec_model = wordvec_model, dimx = 25, dimy = 25)"
      ],
      "execution_count": 26,
      "outputs": [
        {
          "output_type": "stream",
          "text": [
            "found  26250  unique words\n",
            "number of unkown words:  10000\n",
            "some unknown words  ['the', 'to', 'of', 'a', '$_START_$']\n"
          ],
          "name": "stdout"
        }
      ]
    },
    {
      "metadata": {
        "id": "754fUnCLpC-N",
        "colab_type": "code",
        "colab": {
          "base_uri": "https://localhost:8080/",
          "height": 457
        },
        "outputId": "f09289ef-37dc-474f-8531-350f74101d88"
      },
      "cell_type": "code",
      "source": [
        "import sys\n",
        "model = model_cnn2(dimx = 25, dimy = 25, embedding_matrix = embedding_matrix)\n",
        "model.fit([data_inp_l,data_inp_r],labels,epochs=10,batch_size=8)"
      ],
      "execution_count": 33,
      "outputs": [
        {
          "output_type": "stream",
          "text": [
            "/usr/local/lib/python3.6/dist-packages/ipykernel_launcher.py:7: UserWarning: Update your `Conv1D` call to the Keras 2 API: `Conv1D(activation=\"relu\", filters=3, kernel_size=2)`\n",
            "  import sys\n",
            "/usr/local/lib/python3.6/dist-packages/ipykernel_launcher.py:8: UserWarning: Update your `Conv1D` call to the Keras 2 API: `Conv1D(activation=\"relu\", filters=3, kernel_size=2)`\n",
            "  \n"
          ],
          "name": "stderr"
        },
        {
          "output_type": "stream",
          "text": [
            "Epoch 1/10\n",
            "4692/4692 [==============================] - 5s 1ms/step - loss: 0.2525\n",
            "Epoch 2/10\n",
            "4692/4692 [==============================] - 4s 950us/step - loss: 0.2502\n",
            "Epoch 3/10\n",
            "4692/4692 [==============================] - 4s 948us/step - loss: 0.2502\n",
            "Epoch 4/10\n",
            "4692/4692 [==============================] - 4s 955us/step - loss: 0.2503\n",
            "Epoch 5/10\n",
            "3872/4692 [=======================>......] - ETA: 0s - loss: 0.2502"
          ],
          "name": "stdout"
        },
        {
          "output_type": "stream",
          "text": [
            "4692/4692 [==============================] - 4s 953us/step - loss: 0.2502\n",
            "Epoch 6/10\n",
            "4692/4692 [==============================] - 4s 959us/step - loss: 0.2502\n",
            "Epoch 7/10\n",
            "4692/4692 [==============================] - 4s 955us/step - loss: 0.2502\n",
            "Epoch 8/10\n",
            "4692/4692 [==============================] - 4s 951us/step - loss: 0.2503\n",
            "Epoch 9/10\n",
            "4692/4692 [==============================] - 4s 930us/step - loss: 0.2502\n",
            "Epoch 10/10\n",
            " 288/4692 [>.............................] - ETA: 4s - loss: 0.2497"
          ],
          "name": "stdout"
        },
        {
          "output_type": "stream",
          "text": [
            "4692/4692 [==============================] - 4s 949us/step - loss: 0.2502\n"
          ],
          "name": "stdout"
        },
        {
          "output_type": "execute_result",
          "data": {
            "text/plain": [
              "<keras.callbacks.History at 0x7fa144a2a438>"
            ]
          },
          "metadata": {
            "tags": []
          },
          "execution_count": 33
        }
      ]
    },
    {
      "metadata": {
        "id": "HeNrGjpDpUHs",
        "colab_type": "code",
        "colab": {
          "base_uri": "https://localhost:8080/",
          "height": 162
        },
        "outputId": "ba04d21e-a175-4020-f6ef-cd84a1945019"
      },
      "cell_type": "code",
      "source": [
        ""
      ],
      "execution_count": 31,
      "outputs": [
        {
          "output_type": "error",
          "ename": "TypeError",
          "evalue": "ignored",
          "traceback": [
            "\u001b[0;31m---------------------------------------------------------------------------\u001b[0m",
            "\u001b[0;31mTypeError\u001b[0m                                 Traceback (most recent call last)",
            "\u001b[0;32m<ipython-input-31-20d7ccb21211>\u001b[0m in \u001b[0;36m<module>\u001b[0;34m()\u001b[0m\n\u001b[0;32m----> 1\u001b[0;31m \u001b[0mmodel\u001b[0m\u001b[0;34m.\u001b[0m\u001b[0mevaluate\u001b[0m\u001b[0;34m(\u001b[0m\u001b[0;34m[\u001b[0m\u001b[0mdata_inp_l\u001b[0m\u001b[0;34m,\u001b[0m\u001b[0mdata_inp_r\u001b[0m\u001b[0;34m]\u001b[0m\u001b[0;34m,\u001b[0m\u001b[0mmetrics\u001b[0m\u001b[0;34m=\u001b[0m\u001b[0;34m[\u001b[0m\u001b[0;34m'accuracy'\u001b[0m\u001b[0;34m]\u001b[0m\u001b[0;34m)\u001b[0m\u001b[0;34m\u001b[0m\u001b[0m\n\u001b[0m",
            "\u001b[0;31mTypeError\u001b[0m: evaluate() got an unexpected keyword argument 'metrics'"
          ]
        }
      ]
    },
    {
      "metadata": {
        "id": "g1_KQ28cqWe4",
        "colab_type": "code",
        "colab": {}
      },
      "cell_type": "code",
      "source": [
        ""
      ],
      "execution_count": 0,
      "outputs": []
    }
  ]
}